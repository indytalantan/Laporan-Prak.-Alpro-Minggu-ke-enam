{
 "cells": [
  {
   "cell_type": "code",
   "execution_count": 3,
   "id": "66391653-0b45-4a24-9473-67f54abd6c1e",
   "metadata": {},
   "outputs": [
    {
     "name": "stdout",
     "output_type": "stream",
     "text": [
      "100 x 50 = 50+50+50+50+50+50+50+50+50+50+50+50+50+50+50+50+50+50+50+50+50+50+50+50+50+50+50+50+50+50+50+50+50+50+50+50+50+50+50+50+50+50+50+50+50+50+50+50+50+50+50+50+50+50+50+50+50+50+50+50+50+50+50+50+50+50+50+50+50+50+50+50+50+50+50+50+50+50+50+50+50+50+50+50+50+50+50+50+50+50+50+50+50+50+50+50+50+50+50+50 = 5000\n",
      "5000\n"
     ]
    }
   ],
   "source": [
    "def fungsi_perkalian(nilai_a, nilai_b):\n",
    "    mencari_nilai = perkalian(nilai_a, nilai_b)\n",
    "    nilai = \"+\".join([str(nilai_b)] * nilai_a)\n",
    "    print(f\"{nilai_a} x {nilai_b} = {nilai} = {mencari_nilai}\")\n",
    "    return mencari_nilai \n",
    "\n",
    "def perkalian(nilai_a, nilai_b):\n",
    "    return sum([nilai_b] * nilai_a)\n",
    "\n",
    "print(fungsi_perkalian(100, 50)) "
   ]
  },
  {
   "cell_type": "code",
   "execution_count": 5,
   "id": "d9370d64-c4d5-4b1c-960f-f2c31c7b1ec5",
   "metadata": {},
   "outputs": [
    {
     "name": "stdin",
     "output_type": "stream",
     "text": [
      "Memasukkan Nilai Batas Bawah :  2\n",
      "Memasukkan Nilai Batas Atas :  7\n"
     ]
    },
    {
     "name": "stdout",
     "output_type": "stream",
     "text": [
      "3,5,7,"
     ]
    }
   ],
   "source": [
    "nilai_batas_bawah = int(input(\"Memasukkan Nilai Batas Bawah : \"))\n",
    "nilai_batas_atas = int(input(\"Memasukkan Nilai Batas Atas : \"))\n",
    "\n",
    "def fungsi_ganjil(nilai_batas_bawah, nilai_batas_atas):\n",
    "    if nilai_batas_bawah < nilai_batas_atas:\n",
    "        for d in range(nilai_batas_bawah, nilai_batas_atas + 1):\n",
    "            if d % 2 != 0:\n",
    "                print(d, end=\",\")\n",
    "    else :\n",
    "        for d in range(nilai_batas_bawah, nilai_batas_atas-1, -1):\n",
    "            if d % 2 != 0 :\n",
    "                print(d, end=\",\")\n",
    "fungsi_ganjil(nilai_batas_bawah, nilai_batas_atas)"
   ]
  },
  {
   "cell_type": "code",
   "execution_count": 7,
   "id": "f74aa3c9-0285-416b-b425-65320b797229",
   "metadata": {},
   "outputs": [
    {
     "name": "stdin",
     "output_type": "stream",
     "text": [
      "Berapa Total Mata Kuliah? :  9\n",
      "Nilai Dari Mata Kuliah 1:  A\n",
      "Nilai Dari Mata Kuliah 2:  A\n",
      "Nilai Dari Mata Kuliah 3:  A\n",
      "Nilai Dari Mata Kuliah 4:  A\n",
      "Nilai Dari Mata Kuliah 5:  A\n",
      "Nilai Dari Mata Kuliah 6:  A\n",
      "Nilai Dari Mata Kuliah 7:  A\n",
      "Nilai Dari Mata Kuliah 8:  A\n",
      "Nilai Dari Mata Kuliah 9:  A\n"
     ]
    },
    {
     "name": "stdout",
     "output_type": "stream",
     "text": [
      "Nilai IPS Kamu Pada Semester Ini : 4.00\n"
     ]
    }
   ],
   "source": [
    "penilaian = {'A': 4, 'B': 3, 'C': 2, 'D': 1}\n",
    "total_matakuliah = int(input(\"Berapa Total Mata Kuliah? : \"))\n",
    "nilai_awal = 0\n",
    "for i in range(1, total_matakuliah + 1):\n",
    "    while True:\n",
    "        nilai = input(f\"Nilai Dari Mata Kuliah {i}: \").upper().strip()\n",
    "        if nilai in penilaian:\n",
    "            nilai_awal += penilaian[nilai] * 3\n",
    "            break\n",
    "        else:\n",
    "            print(\"Nilai tidak valid! Masukkan A, B, C, atau D.\")\n",
    "\n",
    "per_semester = nilai_awal / (total_matakuliah * 3)\n",
    "\n",
    "print(f\"Nilai IPS Kamu Pada Semester Ini : {per_semester:.2f}\")"
   ]
  },
  {
   "cell_type": "code",
   "execution_count": null,
   "id": "cbcbac72-5ecb-4eb2-8559-c2958cd6c8e4",
   "metadata": {},
   "outputs": [],
   "source": []
  }
 ],
 "metadata": {
  "kernelspec": {
   "display_name": "Python [conda env:base] *",
   "language": "python",
   "name": "conda-base-py"
  },
  "language_info": {
   "codemirror_mode": {
    "name": "ipython",
    "version": 3
   },
   "file_extension": ".py",
   "mimetype": "text/x-python",
   "name": "python",
   "nbconvert_exporter": "python",
   "pygments_lexer": "ipython3",
   "version": "3.12.7"
  }
 },
 "nbformat": 4,
 "nbformat_minor": 5
}
